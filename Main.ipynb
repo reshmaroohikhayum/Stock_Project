{
  "cells": [
    {
      "cell_type": "markdown",
      "metadata": {
        "id": "BQmBH00GiA2K"
      },
      "source": [
        "# **CSCI 755: Artificial Intelligence - Final Project**\n",
        "<h3>Generate Stock Recommendations with Machine Learning Algorithms</h3>"
      ]
    },
    {
      "cell_type": "code",
      "execution_count": 1,
      "metadata": {
        "id": "2CxNEc2xiFY-"
      },
      "outputs": [],
      "source": [
        "# Group Members:\n",
        "# Advik Maniar - 1301585\n",
        "# Biswayan Paul - 1304017\n",
        "# Reshma Roohi Khayum - 1318671\n",
        "\n",
        "# Start Date: 4/4/2023\n",
        "\n",
        "# Description: Develop a WebApp which helps users generate recommendations (buy/hold/sell) for a given stock using various statistical and semantic features using ML algorithms.\n",
        "\n",
        "# Revision History:\n",
        "# akm------4/4/2023------Created Basic framework and functions required.\n",
        "# akm------4/12/2023-----Added functions to extract data from generated stock data and create a DataFrame with the values in real-time.\n",
        "# akm------4/17/2023-----Added save to CSV functionality.\n",
        "# akm------4/18/2023-----Added 2 new features to the CSV file (ROE and ROA).\n",
        "# akm------4/22/2023-----Started working on sentiment analysis column.\n",
        "# akm------4/24/2023-----Added sentiment analysis column to final dataframe"
      ]
    },
    {
      "attachments": {},
      "cell_type": "markdown",
      "metadata": {},
      "source": [
        "**Import Libraries**"
      ]
    },
    {
      "cell_type": "code",
      "execution_count": 5,
      "metadata": {
        "colab": {
          "base_uri": "https://localhost:8080/"
        },
        "id": "E-epHKPNhldc",
        "outputId": "4e7f6ac5-9a91-43ec-d313-a829467ab5db"
      },
      "outputs": [
        {
          "name": "stderr",
          "output_type": "stream",
          "text": [
            "[nltk_data] Downloading package stopwords to\n",
            "[nltk_data]     C:\\Users\\reshm\\AppData\\Roaming\\nltk_data...\n",
            "[nltk_data]   Package stopwords is already up-to-date!\n"
          ]
        }
      ],
      "source": [
        "# General packages\n",
        "import pandas as pd \n",
        "import numpy as np\n",
        "import seaborn as sns\n",
        "import matplotlib.pyplot as plt\n",
        "from wordcloud import WordCloud\n",
        "import datetime as dt\n",
        "import time\n",
        "from ipywidgets import interactive\n",
        "import ipywidgets as widgets\n",
        "from IPython.display import display, HTML\n",
        "\n",
        "# Yahoo finance API\n",
        "import yfinance as yf\n",
        "\n",
        "# Natural Language Processing\n",
        "import re\n",
        "import requests\n",
        "from bs4 import BeautifulSoup\n",
        "import nltk\n",
        "from nltk.corpus import stopwords\n",
        "from nltk.stem import PorterStemmer\n",
        "from nltk.sentiment.vader import SentimentIntensityAnalyzer\n",
        "nltk.download('stopwords')\n",
        "stop_words = set(stopwords.words('english'))\n",
        "\n",
        "# Ignore warnings\n",
        "import warnings\n",
        "warnings.filterwarnings('ignore')\n",
        "\n",
        "# Google Drive\n",
        "# from google.colab import drive,files\n",
        "# drive.mount('/content/drive')\n",
        "location = 'C:/Users/reshm/PythonProg/Stock_Project/ProjectData/'"
      ]
    },
    {
      "attachments": {},
      "cell_type": "markdown",
      "metadata": {},
      "source": [
        "**Define Required Functions**"
      ]
    },
    {
      "cell_type": "code",
      "execution_count": 9,
      "metadata": {
        "colab": {
          "base_uri": "https://localhost:8080/",
          "height": 85,
          "referenced_widgets": [
            "1410da8bbc024789bfe3bcea2c13edac",
            "3201083f7c4a4f349ce700508a24b4e2",
            "4759fcb98d3a4fcfb54820ff2135cb2b",
            "15f4dbabfe854dcc84cd1f889548cc68",
            "3cd2acb4672b44ac9dc70bec6efb379a",
            "41327c6b384249f18182fd90dc63d2eb",
            "1302ab6351184d91972a4eebf3dd649e"
          ]
        },
        "id": "p2KSC_AFhymE",
        "outputId": "92faef4f-3ba6-4407-a25e-33c16e739c4c"
      },
      "outputs": [
        {
          "ename": "NameError",
          "evalue": "name 'data_financials' is not defined",
          "output_type": "error",
          "traceback": [
            "\u001b[1;31m---------------------------------------------------------------------------\u001b[0m",
            "\u001b[1;31mNameError\u001b[0m                                 Traceback (most recent call last)",
            "Cell \u001b[1;32mIn[9], line 141\u001b[0m\n\u001b[0;32m    138\u001b[0m   plt\u001b[38;5;241m.\u001b[39mtitle(\u001b[38;5;124m\"\u001b[39m\u001b[38;5;124mPearson correlation between numeric features\u001b[39m\u001b[38;5;124m\"\u001b[39m)\n\u001b[0;32m    139\u001b[0m   plt\u001b[38;5;241m.\u001b[39mshow()\n\u001b[1;32m--> 141\u001b[0m \u001b[38;5;28mprint\u001b[39m(\u001b[43mdata_financials\u001b[49m\u001b[38;5;241m.\u001b[39mcolumns)\n",
            "\u001b[1;31mNameError\u001b[0m: name 'data_financials' is not defined"
          ]
        }
      ],
      "source": [
        "def f(x):\n",
        "    display(x)\n",
        "    return x\n",
        "\n",
        "def getData(selected_sym):\n",
        "  data_nws = pd.read_csv(location + selected_sym + '_nws_table.csv',encoding=\"UTF-8\")\n",
        "  data_financials = pd.read_csv(location + selected_sym + '_financial_table.csv',encoding=\"UTF-8\")\n",
        "\n",
        "  return data_nws, data_financials\n",
        "\n",
        "\n",
        "# Preprocess text data \n",
        "def preprocess_text(text):\n",
        "    \n",
        "    PS = PorterStemmer()\n",
        "    text = text.lower() # convert to lowercase\n",
        "    text = re.sub(r'\\d+', '', text) # remove digits\n",
        "    text = re.sub(r'[^\\w\\s]', '', text) # remove punctuation\n",
        "    words = nltk.word_tokenize(text)\n",
        "    words = [word for word in words if word not in stop_words] # remove stopwords\n",
        "    words = [PS.stem(word) for word in words] # perform stemming (reduce a word to its stem)\n",
        "    return ' '.join(words)\n",
        "\n",
        "def get_sentiment_score(text):\n",
        "    SIA = SentimentIntensityAnalyzer()\n",
        "    return SIA.polarity_scores(text)['compound']\n",
        "\n",
        "def getSentimentScore(news_data):\n",
        "  \n",
        "  for index, row in news_data.iterrows():\n",
        "      link = row['link']\n",
        "      response = requests.get(link)\n",
        "      soup = BeautifulSoup(response.content, 'html.parser')\n",
        "      text = soup.get_text()\n",
        "      news_data.at[index, 'link_data'] = text\n",
        "\n",
        "  news_data['link_data_processed'] = news_data['link_data'].apply(preprocess_text)\n",
        "\n",
        "  news_data[\"link_data_score\"] = news_data[\"link_data_processed\"].apply(get_sentiment_score)\n",
        "  score_agg = news_data[\"link_data_score\"].mean()\n",
        " \n",
        "  return score_agg\n",
        "\n",
        "def getInputFeatures(handle,data_financials):\n",
        "  pe_ratio = handle.info['trailingPE']\n",
        "  debt_to_equity = data_financials[\"debtToEquity\"].values[0]\n",
        "  book_value_per_share = handle.info['bookValue']\n",
        "  price_to_book_value = handle.info['priceToBook']\n",
        "  rec = data_financials[\"recommendationKey\"].values[0]  \n",
        "  # Return on equity\n",
        "  roe = data_financials[\"returnOnEquity\"].values[0]\n",
        "  # Return on assets\n",
        "  roa = data_financials[\"returnOnAssets\"].values[0]\n",
        "  # Gross margins\n",
        "  gross_margin = data_financials[\"grossMargins\"].values[0]\n",
        "  # Operating margins\n",
        "  operating_margin = data_financials[\"operatingMargins\"].values[0]\n",
        "\n",
        "  return pe_ratio, debt_to_equity, book_value_per_share, price_to_book_value, rec, roe, roa, gross_margin, operating_margin\n",
        "\n",
        "def create_df():\n",
        "\n",
        "  # Initialize Dataframe\n",
        "  df = pd.DataFrame()\n",
        "  sym_list = ['AAPL','GOOG','BLK','META','NKE','ZM','NFLX','DIS','IBM','AMD','EA','TSLA','MSFT','DFS','V','GS','K','NVDA','HMC','VOYA']\n",
        "  sectors = [\"Technology\",\"Technology\",\"Financial Services\",\"Technology\",\"Consumer Cyclical\",\"Technology\",\"Communication Services\",\n",
        "                  \"Communication Services\",\"Technology\",\"Technology\",\"Communication Services\",\"Consumer Cyclical\",\"Technology\",\"Financial Services\",\n",
        "                  \"Financial Services\",\"Financial Services\",\"Consumer Defensive\",\"Technology\",\"Consumer Cyclical\",\"Financial Services\"]\n",
        "  df[\"Symbol\"] = sym_list\n",
        "  df[\"Sector\"] = sectors\n",
        "\n",
        "  pe_ratio_list = []\n",
        "  debt_to_equity_list = []\n",
        "  book_value_per_share_list = []\n",
        "  price_to_book_value_list = []\n",
        "  rec_list = []\n",
        "  roe_list = []\n",
        "  roa_list = []\n",
        "  gross_margin_list = []\n",
        "  operating_margin_list = []\n",
        "  sentiment_score_list = []\n",
        "\n",
        "  for sym in sym_list:\n",
        "    data_nws, data_financials = getData(sym)\n",
        "    handle = yf.Ticker(sym)\n",
        "    pe_ratio, debt_to_equity, book_value_per_share, price_to_book_value, rec, roe, roa, gross_margin, operating_margin = getInputFeatures(handle,data_financials)\n",
        "    sentiment_score = getSentimentScore(data_nws)\n",
        "    pe_ratio_list.append(pe_ratio)\n",
        "    debt_to_equity_list.append(debt_to_equity)\n",
        "    book_value_per_share_list.append(book_value_per_share)\n",
        "    price_to_book_value_list.append(price_to_book_value)\n",
        "    rec_list.append(rec)\n",
        "    roe_list.append(roe)\n",
        "    roa_list.append(roa)\n",
        "    gross_margin_list.append(gross_margin)\n",
        "    operating_margin_list.append(operating_margin)\n",
        "    sentiment_score_list.append(sentiment_score)\n",
        "\n",
        "  column_names = ['Price_of_Earning',\n",
        "                  'Debt_To_Equity',\n",
        "                  'Book_Value_Per_Share',\n",
        "                  'Price_To_Book_Value',\n",
        "                  'Sentiment_Score',\n",
        "                  'Return_On_Equity',\n",
        "                  'Return_On_Assets',\n",
        "                  'Gross_margin',\n",
        "                  'Operating_Margin',\n",
        "                  'Observed']\n",
        "  columns_list = [pe_ratio_list,debt_to_equity_list,book_value_per_share_list,price_to_book_value_list,sentiment_score_list,roe_list,roa_list,gross_margin_list,operating_margin_list,rec_list]  \n",
        "  for i,col in enumerate(column_names):\n",
        "    df[col] = columns_list[i]    \n",
        "\n",
        "  return df\n",
        "\n",
        "def saveCSV(name):\n",
        "  df = create_df()\n",
        "  df.to_csv(name)\n",
        "\n",
        "def getFinalData(name):\n",
        "  saveCSV(name)\n",
        "  df = pd.read_csv(name,encoding=\"UTF-8\")\n",
        "  df.drop([\"Unnamed: 0\"],inplace=True,axis=1)\n",
        "  return df\n",
        "\n",
        "def exploratoryDataAnalysis(df):\n",
        "\n",
        "\n",
        "  sectors = df[\"Sector\"].value_counts()\n",
        "  plt.figure(figsize=(12,8))\n",
        "  sns.barplot(x = sectors.index,y = sectors.values)\n",
        "  plt.title(\"Sectors\")\n",
        "  plt.grid()\n",
        "  plt.show()\n",
        "\n",
        "  corr = df.corr(method=\"pearson\")\n",
        "  plt.figure(figsize=(12,8))\n",
        "  sns.heatmap(corr, linewidths=2, annot=True)\n",
        "  plt.title(\"Pearson correlation between numeric features\")\n",
        "  plt.show()\n",
        "\n",
        "print(data_financials.columns)"
      ]
    },
    {
      "attachments": {},
      "cell_type": "markdown",
      "metadata": {},
      "source": [
        "**Define `main` function**"
      ]
    },
    {
      "cell_type": "code",
      "execution_count": 8,
      "metadata": {
        "id": "sVTXZbpAokmc"
      },
      "outputs": [
        {
          "data": {
            "text/html": [
              "<h2 style='font-size:20px;'>Final Stock Data</h2>"
            ],
            "text/plain": [
              "<IPython.core.display.HTML object>"
            ]
          },
          "metadata": {},
          "output_type": "display_data"
        },
        {
          "ename": "KeyError",
          "evalue": "'debtToEquity'",
          "output_type": "error",
          "traceback": [
            "\u001b[1;31m---------------------------------------------------------------------------\u001b[0m",
            "\u001b[1;31mKeyError\u001b[0m                                  Traceback (most recent call last)",
            "File \u001b[1;32m~\\AppData\\Local\\Packages\\PythonSoftwareFoundation.Python.3.8_qbz5n2kfra8p0\\LocalCache\\local-packages\\Python38\\site-packages\\pandas\\core\\indexes\\base.py:3802\u001b[0m, in \u001b[0;36mIndex.get_loc\u001b[1;34m(self, key, method, tolerance)\u001b[0m\n\u001b[0;32m   3801\u001b[0m \u001b[38;5;28;01mtry\u001b[39;00m:\n\u001b[1;32m-> 3802\u001b[0m     \u001b[38;5;28;01mreturn\u001b[39;00m \u001b[38;5;28;43mself\u001b[39;49m\u001b[38;5;241;43m.\u001b[39;49m\u001b[43m_engine\u001b[49m\u001b[38;5;241;43m.\u001b[39;49m\u001b[43mget_loc\u001b[49m\u001b[43m(\u001b[49m\u001b[43mcasted_key\u001b[49m\u001b[43m)\u001b[49m\n\u001b[0;32m   3803\u001b[0m \u001b[38;5;28;01mexcept\u001b[39;00m \u001b[38;5;167;01mKeyError\u001b[39;00m \u001b[38;5;28;01mas\u001b[39;00m err:\n",
            "File \u001b[1;32m~\\AppData\\Local\\Packages\\PythonSoftwareFoundation.Python.3.8_qbz5n2kfra8p0\\LocalCache\\local-packages\\Python38\\site-packages\\pandas\\_libs\\index.pyx:138\u001b[0m, in \u001b[0;36mpandas._libs.index.IndexEngine.get_loc\u001b[1;34m()\u001b[0m\n",
            "File \u001b[1;32m~\\AppData\\Local\\Packages\\PythonSoftwareFoundation.Python.3.8_qbz5n2kfra8p0\\LocalCache\\local-packages\\Python38\\site-packages\\pandas\\_libs\\index.pyx:165\u001b[0m, in \u001b[0;36mpandas._libs.index.IndexEngine.get_loc\u001b[1;34m()\u001b[0m\n",
            "File \u001b[1;32mpandas\\_libs\\hashtable_class_helper.pxi:5745\u001b[0m, in \u001b[0;36mpandas._libs.hashtable.PyObjectHashTable.get_item\u001b[1;34m()\u001b[0m\n",
            "File \u001b[1;32mpandas\\_libs\\hashtable_class_helper.pxi:5753\u001b[0m, in \u001b[0;36mpandas._libs.hashtable.PyObjectHashTable.get_item\u001b[1;34m()\u001b[0m\n",
            "\u001b[1;31mKeyError\u001b[0m: 'debtToEquity'",
            "\nThe above exception was the direct cause of the following exception:\n",
            "\u001b[1;31mKeyError\u001b[0m                                  Traceback (most recent call last)",
            "Cell \u001b[1;32mIn[8], line 20\u001b[0m\n\u001b[0;32m     17\u001b[0m   \u001b[38;5;28;01mreturn\u001b[39;00m (end_time\u001b[38;5;241m-\u001b[39mstart_time)\n\u001b[0;32m     19\u001b[0m \u001b[38;5;66;03m# Call Main\u001b[39;00m\n\u001b[1;32m---> 20\u001b[0m ex_time \u001b[38;5;241m=\u001b[39m \u001b[43mmain\u001b[49m\u001b[43m(\u001b[49m\u001b[43m)\u001b[49m\n\u001b[0;32m     21\u001b[0m \u001b[38;5;28;01mif\u001b[39;00m ex_time \u001b[38;5;241m>\u001b[39m \u001b[38;5;241m60\u001b[39m:\n\u001b[0;32m     22\u001b[0m     \u001b[38;5;28mprint\u001b[39m(\u001b[38;5;124m\"\u001b[39m\u001b[38;5;130;01m\\n\u001b[39;00m\u001b[38;5;130;01m\\n\u001b[39;00m\u001b[38;5;130;01m\\n\u001b[39;00m\u001b[38;5;124mTotal Execution Time: \u001b[39m\u001b[38;5;124m\"\u001b[39m,\u001b[38;5;28mint\u001b[39m(ex_time \u001b[38;5;241m/\u001b[39m \u001b[38;5;241m60\u001b[39m),\u001b[38;5;124m\"\u001b[39m\u001b[38;5;124mminute(s)\u001b[39m\u001b[38;5;124m\"\u001b[39m,\u001b[38;5;28mround\u001b[39m(ex_time \u001b[38;5;241m%\u001b[39m \u001b[38;5;241m60\u001b[39m, \u001b[38;5;241m2\u001b[39m), \u001b[38;5;124m\"\u001b[39m\u001b[38;5;124mseconds\u001b[39m\u001b[38;5;124m\"\u001b[39m)\n",
            "Cell \u001b[1;32mIn[8], line 8\u001b[0m, in \u001b[0;36mmain\u001b[1;34m()\u001b[0m\n\u001b[0;32m      6\u001b[0m html_str \u001b[38;5;241m=\u001b[39m \u001b[38;5;124m\"\u001b[39m\u001b[38;5;124m<h2 style=\u001b[39m\u001b[38;5;124m'\u001b[39m\u001b[38;5;124mfont-size:20px;\u001b[39m\u001b[38;5;124m'\u001b[39m\u001b[38;5;124m>Final Stock Data</h2>\u001b[39m\u001b[38;5;124m\"\u001b[39m\n\u001b[0;32m      7\u001b[0m display(HTML(html_str))\n\u001b[1;32m----> 8\u001b[0m df \u001b[38;5;241m=\u001b[39m \u001b[43mgetFinalData\u001b[49m\u001b[43m(\u001b[49m\u001b[38;5;124;43m\"\u001b[39;49m\u001b[38;5;124;43mStock_Data.csv\u001b[39;49m\u001b[38;5;124;43m\"\u001b[39;49m\u001b[43m)\u001b[49m\n\u001b[0;32m      9\u001b[0m display(df)\n\u001b[0;32m     11\u001b[0m \u001b[38;5;66;03m# Perform simple EDA with final stock dataframe\u001b[39;00m\n",
            "Cell \u001b[1;32mIn[6], line 141\u001b[0m, in \u001b[0;36mgetFinalData\u001b[1;34m(name)\u001b[0m\n\u001b[0;32m    140\u001b[0m \u001b[38;5;28;01mdef\u001b[39;00m \u001b[38;5;21mgetFinalData\u001b[39m(name):\n\u001b[1;32m--> 141\u001b[0m   \u001b[43msaveCSV\u001b[49m\u001b[43m(\u001b[49m\u001b[43mname\u001b[49m\u001b[43m)\u001b[49m\n\u001b[0;32m    142\u001b[0m   df \u001b[38;5;241m=\u001b[39m pd\u001b[38;5;241m.\u001b[39mread_csv(name,encoding\u001b[38;5;241m=\u001b[39m\u001b[38;5;124m\"\u001b[39m\u001b[38;5;124mUTF-8\u001b[39m\u001b[38;5;124m\"\u001b[39m)\n\u001b[0;32m    143\u001b[0m   df\u001b[38;5;241m.\u001b[39mdrop([\u001b[38;5;124m\"\u001b[39m\u001b[38;5;124mUnnamed: 0\u001b[39m\u001b[38;5;124m\"\u001b[39m],inplace\u001b[38;5;241m=\u001b[39m\u001b[38;5;28;01mTrue\u001b[39;00m,axis\u001b[38;5;241m=\u001b[39m\u001b[38;5;241m1\u001b[39m)\n",
            "Cell \u001b[1;32mIn[6], line 137\u001b[0m, in \u001b[0;36msaveCSV\u001b[1;34m(name)\u001b[0m\n\u001b[0;32m    136\u001b[0m \u001b[38;5;28;01mdef\u001b[39;00m \u001b[38;5;21msaveCSV\u001b[39m(name):\n\u001b[1;32m--> 137\u001b[0m   df \u001b[38;5;241m=\u001b[39m \u001b[43mcreate_df\u001b[49m\u001b[43m(\u001b[49m\u001b[43m)\u001b[49m\n\u001b[0;32m    138\u001b[0m   df\u001b[38;5;241m.\u001b[39mto_csv(name)\n",
            "Cell \u001b[1;32mIn[6], line 105\u001b[0m, in \u001b[0;36mcreate_df\u001b[1;34m()\u001b[0m\n\u001b[0;32m    103\u001b[0m data_nws, data_financials \u001b[38;5;241m=\u001b[39m getData(sym)\n\u001b[0;32m    104\u001b[0m handle \u001b[38;5;241m=\u001b[39m yf\u001b[38;5;241m.\u001b[39mTicker(sym)\n\u001b[1;32m--> 105\u001b[0m pe_ratio, debt_to_equity, book_value_per_share, price_to_book_value, rec, roe, roa, gross_margin, operating_margin \u001b[38;5;241m=\u001b[39m \u001b[43mgetInputFeatures\u001b[49m\u001b[43m(\u001b[49m\u001b[43mhandle\u001b[49m\u001b[43m,\u001b[49m\u001b[43mdata_financials\u001b[49m\u001b[43m)\u001b[49m\n\u001b[0;32m    106\u001b[0m sentiment_score \u001b[38;5;241m=\u001b[39m getSentimentScore(data_nws)\n\u001b[0;32m    107\u001b[0m pe_ratio_list\u001b[38;5;241m.\u001b[39mappend(pe_ratio)\n",
            "Cell \u001b[1;32mIn[6], line 62\u001b[0m, in \u001b[0;36mgetInputFeatures\u001b[1;34m(handle, data_financials)\u001b[0m\n\u001b[0;32m     60\u001b[0m pe_ratio \u001b[38;5;241m=\u001b[39m handle\u001b[38;5;241m.\u001b[39minfo[\u001b[38;5;124m'\u001b[39m\u001b[38;5;124mtrailingPE\u001b[39m\u001b[38;5;124m'\u001b[39m]\n\u001b[0;32m     61\u001b[0m \u001b[38;5;66;03m# Debt-to-equity\u001b[39;00m\n\u001b[1;32m---> 62\u001b[0m debt_to_equity \u001b[38;5;241m=\u001b[39m \u001b[43mdata_financials\u001b[49m\u001b[43m[\u001b[49m\u001b[38;5;124;43m\"\u001b[39;49m\u001b[38;5;124;43mdebtToEquity\u001b[39;49m\u001b[38;5;124;43m\"\u001b[39;49m\u001b[43m]\u001b[49m\u001b[38;5;241m.\u001b[39mvalues[\u001b[38;5;241m0\u001b[39m]\n\u001b[0;32m     63\u001b[0m \u001b[38;5;66;03m# Book value per share\u001b[39;00m\n\u001b[0;32m     64\u001b[0m book_value_per_share \u001b[38;5;241m=\u001b[39m handle\u001b[38;5;241m.\u001b[39minfo[\u001b[38;5;124m'\u001b[39m\u001b[38;5;124mbookValue\u001b[39m\u001b[38;5;124m'\u001b[39m]\n",
            "File \u001b[1;32m~\\AppData\\Local\\Packages\\PythonSoftwareFoundation.Python.3.8_qbz5n2kfra8p0\\LocalCache\\local-packages\\Python38\\site-packages\\pandas\\core\\frame.py:3807\u001b[0m, in \u001b[0;36mDataFrame.__getitem__\u001b[1;34m(self, key)\u001b[0m\n\u001b[0;32m   3805\u001b[0m \u001b[38;5;28;01mif\u001b[39;00m \u001b[38;5;28mself\u001b[39m\u001b[38;5;241m.\u001b[39mcolumns\u001b[38;5;241m.\u001b[39mnlevels \u001b[38;5;241m>\u001b[39m \u001b[38;5;241m1\u001b[39m:\n\u001b[0;32m   3806\u001b[0m     \u001b[38;5;28;01mreturn\u001b[39;00m \u001b[38;5;28mself\u001b[39m\u001b[38;5;241m.\u001b[39m_getitem_multilevel(key)\n\u001b[1;32m-> 3807\u001b[0m indexer \u001b[38;5;241m=\u001b[39m \u001b[38;5;28;43mself\u001b[39;49m\u001b[38;5;241;43m.\u001b[39;49m\u001b[43mcolumns\u001b[49m\u001b[38;5;241;43m.\u001b[39;49m\u001b[43mget_loc\u001b[49m\u001b[43m(\u001b[49m\u001b[43mkey\u001b[49m\u001b[43m)\u001b[49m\n\u001b[0;32m   3808\u001b[0m \u001b[38;5;28;01mif\u001b[39;00m is_integer(indexer):\n\u001b[0;32m   3809\u001b[0m     indexer \u001b[38;5;241m=\u001b[39m [indexer]\n",
            "File \u001b[1;32m~\\AppData\\Local\\Packages\\PythonSoftwareFoundation.Python.3.8_qbz5n2kfra8p0\\LocalCache\\local-packages\\Python38\\site-packages\\pandas\\core\\indexes\\base.py:3804\u001b[0m, in \u001b[0;36mIndex.get_loc\u001b[1;34m(self, key, method, tolerance)\u001b[0m\n\u001b[0;32m   3802\u001b[0m     \u001b[38;5;28;01mreturn\u001b[39;00m \u001b[38;5;28mself\u001b[39m\u001b[38;5;241m.\u001b[39m_engine\u001b[38;5;241m.\u001b[39mget_loc(casted_key)\n\u001b[0;32m   3803\u001b[0m \u001b[38;5;28;01mexcept\u001b[39;00m \u001b[38;5;167;01mKeyError\u001b[39;00m \u001b[38;5;28;01mas\u001b[39;00m err:\n\u001b[1;32m-> 3804\u001b[0m     \u001b[38;5;28;01mraise\u001b[39;00m \u001b[38;5;167;01mKeyError\u001b[39;00m(key) \u001b[38;5;28;01mfrom\u001b[39;00m \u001b[38;5;21;01merr\u001b[39;00m\n\u001b[0;32m   3805\u001b[0m \u001b[38;5;28;01mexcept\u001b[39;00m \u001b[38;5;167;01mTypeError\u001b[39;00m:\n\u001b[0;32m   3806\u001b[0m     \u001b[38;5;66;03m# If we have a listlike key, _check_indexing_error will raise\u001b[39;00m\n\u001b[0;32m   3807\u001b[0m     \u001b[38;5;66;03m#  InvalidIndexError. Otherwise we fall through and re-raise\u001b[39;00m\n\u001b[0;32m   3808\u001b[0m     \u001b[38;5;66;03m#  the TypeError.\u001b[39;00m\n\u001b[0;32m   3809\u001b[0m     \u001b[38;5;28mself\u001b[39m\u001b[38;5;241m.\u001b[39m_check_indexing_error(key)\n",
            "\u001b[1;31mKeyError\u001b[0m: 'debtToEquity'"
          ]
        }
      ],
      "source": [
        "def main():\n",
        "  \n",
        "  start_time = time.time()\n",
        "\n",
        "  # Get dataframe for classification\n",
        "  html_str = \"<h2 style='font-size:20px;'>Final Stock Data</h2>\"\n",
        "  display(HTML(html_str))\n",
        "  df = getFinalData(\"Stock_Data.csv\")\n",
        "  display(df)\n",
        "\n",
        "  # Perform simple EDA with final stock dataframe\n",
        "  html_str = \"<h2 style='font-size:20px;'>Exploratory Data Analysis (EDA)</h2>\"\n",
        "  display(HTML(html_str))\n",
        "  exploratoryDataAnalysis(df)\n",
        "  \n",
        "  end_time = time.time()\n",
        "  return (end_time-start_time)\n",
        "\n",
        "# Call Main\n",
        "ex_time = main()\n",
        "if ex_time > 60:\n",
        "    print(\"\\n\\n\\nTotal Execution Time: \",int(ex_time / 60),\"minute(s)\",round(ex_time % 60, 2), \"seconds\")\n",
        "else:\n",
        "    print(\"\\n\\n\\nTotal Execution Time: \", round(ex_time, 3), \"seconds\")"
      ]
    },
    {
      "attachments": {},
      "cell_type": "markdown",
      "metadata": {},
      "source": [
        "<hr>\n",
        "<h3>Twitter Data</h3>"
      ]
    },
    {
      "cell_type": "code",
      "execution_count": 16,
      "metadata": {},
      "outputs": [],
      "source": [
        "# import tweepy\n",
        "\n",
        "# consumer_key = 'NHoYuZU5hQhKoxtqlrZLcaD78'\n",
        "# consumer_secret = 'dcNqpEkBtd9XwrtAW27KgoCJqa7jj2OeezAae89Ss1jp3YlHdH'\n",
        "# access_token = '1470490089042100225-my4LMJR3487slX3Sr2hOyvB1tfs2mj'\n",
        "# access_token_secret = 'GD0QkIHMDDDkxjIoC6LxCHYjZ8bU1KSd9s0GadeQn1v4i'\n",
        "# bearer_token = \"AAAAAAAAAAAAAAAAAAAAAK04mwEAAAAA65G68lnq381Tj%2BtjYy4ldy8g954%3D8OV7d0vHagosvKuKa11av1iHKzOl84vbYdOon4vIRCO3I5lt1A\"\n",
        "\n",
        "\n",
        "# tweepy_client = tweepy.Client(bearer_token=bearer_token, consumer_key=consumer_key, consumer_secret=consumer_secret,\n",
        "#                               access_token=access_token, access_token_secret=access_token_secret, wait_on_rate_limit=True)\n",
        "\n",
        "# def get_today_date_str():\n",
        "#     today = datetime.datetime.today()\n",
        "#     today_str = today.strftime(\"%Y-%m-%d\")\n",
        "#     return today_str\n",
        "\n",
        "# def get_tweets(keyword):\n",
        "#     query = f\"{keyword} lang:en -is:retweet\"\n",
        "#     tweets = tweepy_client.search_recent_tweets(query=query, tweet_fields=['id', 'created_at', 'text', 'public_metrics'], max_results=10)\n",
        "#     tweets_df = pd.DataFrame()\n",
        "#     for tweet in tweets.data:\n",
        "#         print(f\"text {tweet.text}\")\n",
        "#         row = pd.DataFrame({'id': [tweet.id], 'created_at': [tweet.created_at], 'text': [tweet.text], \\\n",
        "#                             'retweet_count': [tweet.public_metrics['retweet_count']], 'reply_count': [tweet.public_metrics['reply_count']], \\\n",
        "#                             'like_count': [tweet.public_metrics['like_count']], 'quote_count': [tweet.public_metrics['quote_count']]})\n",
        "#         tweets_df = pd.concat([tweets_df, row], axis=0, ignore_index=True)\n",
        "#     return tweets_df\n",
        "\n",
        "# get_tweets('AAPL')"
      ]
    },
    {
      "cell_type": "code",
      "execution_count": null,
      "metadata": {},
      "outputs": [],
      "source": []
    },
    {
      "cell_type": "code",
      "execution_count": null,
      "metadata": {},
      "outputs": [],
      "source": []
    }
  ],
  "metadata": {
    "colab": {
      "provenance": []
    },
    "kernelspec": {
      "display_name": "Python 3",
      "name": "python3"
    },
    "language_info": {
      "codemirror_mode": {
        "name": "ipython",
        "version": 3
      },
      "file_extension": ".py",
      "mimetype": "text/x-python",
      "name": "python",
      "nbconvert_exporter": "python",
      "pygments_lexer": "ipython3",
      "version": "3.8.10"
    },
    "widgets": {
      "application/vnd.jupyter.widget-state+json": {
        "1302ab6351184d91972a4eebf3dd649e": {
          "model_module": "@jupyter-widgets/base",
          "model_module_version": "1.2.0",
          "model_name": "LayoutModel",
          "state": {
            "_model_module": "@jupyter-widgets/base",
            "_model_module_version": "1.2.0",
            "_model_name": "LayoutModel",
            "_view_count": null,
            "_view_module": "@jupyter-widgets/base",
            "_view_module_version": "1.2.0",
            "_view_name": "LayoutView",
            "align_content": null,
            "align_items": null,
            "align_self": null,
            "border": null,
            "bottom": null,
            "display": null,
            "flex": null,
            "flex_flow": null,
            "grid_area": null,
            "grid_auto_columns": null,
            "grid_auto_flow": null,
            "grid_auto_rows": null,
            "grid_column": null,
            "grid_gap": null,
            "grid_row": null,
            "grid_template_areas": null,
            "grid_template_columns": null,
            "grid_template_rows": null,
            "height": null,
            "justify_content": null,
            "justify_items": null,
            "left": null,
            "margin": null,
            "max_height": null,
            "max_width": null,
            "min_height": null,
            "min_width": null,
            "object_fit": null,
            "object_position": null,
            "order": null,
            "overflow": null,
            "overflow_x": null,
            "overflow_y": null,
            "padding": null,
            "right": null,
            "top": null,
            "visibility": null,
            "width": null
          }
        },
        "1410da8bbc024789bfe3bcea2c13edac": {
          "model_module": "@jupyter-widgets/controls",
          "model_module_version": "1.5.0",
          "model_name": "VBoxModel",
          "state": {
            "_dom_classes": [
              "widget-interact"
            ],
            "_model_module": "@jupyter-widgets/controls",
            "_model_module_version": "1.5.0",
            "_model_name": "VBoxModel",
            "_view_count": null,
            "_view_module": "@jupyter-widgets/controls",
            "_view_module_version": "1.5.0",
            "_view_name": "VBoxView",
            "box_style": "",
            "children": [
              "IPY_MODEL_3201083f7c4a4f349ce700508a24b4e2",
              "IPY_MODEL_4759fcb98d3a4fcfb54820ff2135cb2b"
            ],
            "layout": "IPY_MODEL_15f4dbabfe854dcc84cd1f889548cc68"
          }
        },
        "15f4dbabfe854dcc84cd1f889548cc68": {
          "model_module": "@jupyter-widgets/base",
          "model_module_version": "1.2.0",
          "model_name": "LayoutModel",
          "state": {
            "_model_module": "@jupyter-widgets/base",
            "_model_module_version": "1.2.0",
            "_model_name": "LayoutModel",
            "_view_count": null,
            "_view_module": "@jupyter-widgets/base",
            "_view_module_version": "1.2.0",
            "_view_name": "LayoutView",
            "align_content": null,
            "align_items": null,
            "align_self": null,
            "border": null,
            "bottom": null,
            "display": null,
            "flex": null,
            "flex_flow": null,
            "grid_area": null,
            "grid_auto_columns": null,
            "grid_auto_flow": null,
            "grid_auto_rows": null,
            "grid_column": null,
            "grid_gap": null,
            "grid_row": null,
            "grid_template_areas": null,
            "grid_template_columns": null,
            "grid_template_rows": null,
            "height": null,
            "justify_content": null,
            "justify_items": null,
            "left": null,
            "margin": null,
            "max_height": null,
            "max_width": null,
            "min_height": null,
            "min_width": null,
            "object_fit": null,
            "object_position": null,
            "order": null,
            "overflow": null,
            "overflow_x": null,
            "overflow_y": null,
            "padding": null,
            "right": null,
            "top": null,
            "visibility": null,
            "width": null
          }
        },
        "3201083f7c4a4f349ce700508a24b4e2": {
          "model_module": "@jupyter-widgets/controls",
          "model_module_version": "1.5.0",
          "model_name": "DropdownModel",
          "state": {
            "_dom_classes": [],
            "_model_module": "@jupyter-widgets/controls",
            "_model_module_version": "1.5.0",
            "_model_name": "DropdownModel",
            "_options_labels": [
              "AAPL",
              "GOOG",
              "AMZN",
              "BLK",
              "META",
              "NKE",
              "ZM",
              "JPM",
              "SBUX",
              "NFLX",
              "MCD",
              "DIS",
              "DKNG",
              "MANU",
              "IBM",
              "AMD",
              "EA",
              "TSLA",
              "MSFT",
              "DFS",
              "V",
              "GS",
              "K",
              "ORCL",
              "NVDA",
              "HMC",
              "ZBRA",
              "VOYA"
            ],
            "_view_count": null,
            "_view_module": "@jupyter-widgets/controls",
            "_view_module_version": "1.5.0",
            "_view_name": "DropdownView",
            "description": "Symbol: ",
            "description_tooltip": null,
            "disabled": false,
            "index": 0,
            "layout": "IPY_MODEL_3cd2acb4672b44ac9dc70bec6efb379a",
            "style": "IPY_MODEL_41327c6b384249f18182fd90dc63d2eb"
          }
        },
        "3cd2acb4672b44ac9dc70bec6efb379a": {
          "model_module": "@jupyter-widgets/base",
          "model_module_version": "1.2.0",
          "model_name": "LayoutModel",
          "state": {
            "_model_module": "@jupyter-widgets/base",
            "_model_module_version": "1.2.0",
            "_model_name": "LayoutModel",
            "_view_count": null,
            "_view_module": "@jupyter-widgets/base",
            "_view_module_version": "1.2.0",
            "_view_name": "LayoutView",
            "align_content": null,
            "align_items": null,
            "align_self": null,
            "border": null,
            "bottom": null,
            "display": null,
            "flex": null,
            "flex_flow": null,
            "grid_area": null,
            "grid_auto_columns": null,
            "grid_auto_flow": null,
            "grid_auto_rows": null,
            "grid_column": null,
            "grid_gap": null,
            "grid_row": null,
            "grid_template_areas": null,
            "grid_template_columns": null,
            "grid_template_rows": null,
            "height": null,
            "justify_content": null,
            "justify_items": null,
            "left": null,
            "margin": null,
            "max_height": null,
            "max_width": null,
            "min_height": null,
            "min_width": null,
            "object_fit": null,
            "object_position": null,
            "order": null,
            "overflow": null,
            "overflow_x": null,
            "overflow_y": null,
            "padding": null,
            "right": null,
            "top": null,
            "visibility": null,
            "width": null
          }
        },
        "41327c6b384249f18182fd90dc63d2eb": {
          "model_module": "@jupyter-widgets/controls",
          "model_module_version": "1.5.0",
          "model_name": "DescriptionStyleModel",
          "state": {
            "_model_module": "@jupyter-widgets/controls",
            "_model_module_version": "1.5.0",
            "_model_name": "DescriptionStyleModel",
            "_view_count": null,
            "_view_module": "@jupyter-widgets/base",
            "_view_module_version": "1.2.0",
            "_view_name": "StyleView",
            "description_width": ""
          }
        },
        "4759fcb98d3a4fcfb54820ff2135cb2b": {
          "model_module": "@jupyter-widgets/output",
          "model_module_version": "1.0.0",
          "model_name": "OutputModel",
          "state": {
            "_dom_classes": [],
            "_model_module": "@jupyter-widgets/output",
            "_model_module_version": "1.0.0",
            "_model_name": "OutputModel",
            "_view_count": null,
            "_view_module": "@jupyter-widgets/output",
            "_view_module_version": "1.0.0",
            "_view_name": "OutputView",
            "layout": "IPY_MODEL_1302ab6351184d91972a4eebf3dd649e",
            "msg_id": "",
            "outputs": [
              {
                "data": {
                  "application/vnd.google.colaboratory.intrinsic+json": {
                    "type": "string"
                  },
                  "text/plain": "'AAPL'"
                },
                "metadata": {},
                "output_type": "display_data"
              }
            ]
          }
        }
      }
    }
  },
  "nbformat": 4,
  "nbformat_minor": 0
}
